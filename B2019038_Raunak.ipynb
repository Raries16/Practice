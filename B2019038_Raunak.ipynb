{
  "nbformat": 4,
  "nbformat_minor": 0,
  "metadata": {
    "colab": {
      "name": "B2019038_Raunak.ipynb",
      "provenance": [],
      "authorship_tag": "ABX9TyOI1icT1zs95FhrNCigZcdH",
      "include_colab_link": true
    },
    "kernelspec": {
      "name": "python3",
      "display_name": "Python 3"
    }
  },
  "cells": [
    {
      "cell_type": "markdown",
      "metadata": {
        "id": "view-in-github",
        "colab_type": "text"
      },
      "source": [
        "<a href=\"https://colab.research.google.com/github/Raries16/Practice/blob/main/B2019038_Raunak.ipynb\" target=\"_parent\"><img src=\"https://colab.research.google.com/assets/colab-badge.svg\" alt=\"Open In Colab\"/></a>"
      ]
    },
    {
      "cell_type": "code",
      "metadata": {
        "colab": {
          "base_uri": "https://localhost:8080/"
        },
        "id": "XxBqvrdGyO_g",
        "outputId": "480d395d-5a0a-4e97-b895-95d9b1d389bf"
      },
      "source": [
        "from google.colab import drive\n",
        "drive.mount('/content/gdrive')"
      ],
      "execution_count": 1,
      "outputs": [
        {
          "output_type": "stream",
          "text": [
            "Mounted at /content/gdrive\n"
          ],
          "name": "stdout"
        }
      ]
    },
    {
      "cell_type": "code",
      "metadata": {
        "id": "j62gS2QWyv4H"
      },
      "source": [
        "import os\n",
        "os.environ['KAGGLE_CONFIG_DIR'] = \"/content/gdrive/My Drive/Datasets\""
      ],
      "execution_count": 2,
      "outputs": []
    },
    {
      "cell_type": "code",
      "metadata": {
        "colab": {
          "base_uri": "https://localhost:8080/"
        },
        "id": "ssMgB9sBzAZ1",
        "outputId": "de4821d7-c946-4de4-aaa7-e36cffa95eb8"
      },
      "source": [
        "#changing the working directory\n",
        "%cd /content/gdrive/My Drive/Datasets"
      ],
      "execution_count": 4,
      "outputs": [
        {
          "output_type": "stream",
          "text": [
            "/content/gdrive/My Drive/Datasets\n"
          ],
          "name": "stdout"
        }
      ]
    },
    {
      "cell_type": "code",
      "metadata": {
        "id": "wG2NZMIMzExV"
      },
      "source": [
        "import numpy as np\n",
        "import pandas as pd\n",
        "import matplotlib.pyplot as plt\n",
        "import seaborn as sns\n",
        "\n",
        "import math\n",
        "import warnings\n",
        "warnings.filterwarnings(\"ignore\")"
      ],
      "execution_count": 5,
      "outputs": []
    },
    {
      "cell_type": "code",
      "metadata": {
        "colab": {
          "base_uri": "https://localhost:8080/",
          "height": 419
        },
        "id": "EoHtZP6gzgDQ",
        "outputId": "af8c053f-ba1e-48c2-fa63-b9d6dcc1cfd7"
      },
      "source": [
        "data = pd.read_csv(\"/content/gdrive/My Drive/Datasets/GIM_Goa_rolled_up_data.csv\")\n",
        "data"
      ],
      "execution_count": 7,
      "outputs": [
        {
          "output_type": "execute_result",
          "data": {
            "text/html": [
              "<div>\n",
              "<style scoped>\n",
              "    .dataframe tbody tr th:only-of-type {\n",
              "        vertical-align: middle;\n",
              "    }\n",
              "\n",
              "    .dataframe tbody tr th {\n",
              "        vertical-align: top;\n",
              "    }\n",
              "\n",
              "    .dataframe thead th {\n",
              "        text-align: right;\n",
              "    }\n",
              "</style>\n",
              "<table border=\"1\" class=\"dataframe\">\n",
              "  <thead>\n",
              "    <tr style=\"text-align: right;\">\n",
              "      <th></th>\n",
              "      <th>Day</th>\n",
              "      <th>temp</th>\n",
              "      <th>atemp</th>\n",
              "      <th>humidity</th>\n",
              "      <th>windspeed</th>\n",
              "      <th>count</th>\n",
              "    </tr>\n",
              "  </thead>\n",
              "  <tbody>\n",
              "    <tr>\n",
              "      <th>0</th>\n",
              "      <td>1/1/2011</td>\n",
              "      <td>14.110833</td>\n",
              "      <td>18.181250</td>\n",
              "      <td>80.583333</td>\n",
              "      <td>10.749871</td>\n",
              "      <td>985</td>\n",
              "    </tr>\n",
              "    <tr>\n",
              "      <th>1</th>\n",
              "      <td>1/2/2011</td>\n",
              "      <td>14.902609</td>\n",
              "      <td>17.686957</td>\n",
              "      <td>69.608696</td>\n",
              "      <td>16.652122</td>\n",
              "      <td>801</td>\n",
              "    </tr>\n",
              "    <tr>\n",
              "      <th>2</th>\n",
              "      <td>1/3/2011</td>\n",
              "      <td>8.050909</td>\n",
              "      <td>9.470227</td>\n",
              "      <td>43.727273</td>\n",
              "      <td>16.636709</td>\n",
              "      <td>1349</td>\n",
              "    </tr>\n",
              "    <tr>\n",
              "      <th>3</th>\n",
              "      <td>1/4/2011</td>\n",
              "      <td>8.200000</td>\n",
              "      <td>10.606087</td>\n",
              "      <td>59.043478</td>\n",
              "      <td>10.739809</td>\n",
              "      <td>1562</td>\n",
              "    </tr>\n",
              "    <tr>\n",
              "      <th>4</th>\n",
              "      <td>1/5/2011</td>\n",
              "      <td>9.305217</td>\n",
              "      <td>11.463478</td>\n",
              "      <td>43.695652</td>\n",
              "      <td>12.522300</td>\n",
              "      <td>1600</td>\n",
              "    </tr>\n",
              "    <tr>\n",
              "      <th>...</th>\n",
              "      <td>...</td>\n",
              "      <td>...</td>\n",
              "      <td>...</td>\n",
              "      <td>...</td>\n",
              "      <td>...</td>\n",
              "      <td>...</td>\n",
              "    </tr>\n",
              "    <tr>\n",
              "      <th>451</th>\n",
              "      <td>12/15/2012</td>\n",
              "      <td>13.290833</td>\n",
              "      <td>16.919167</td>\n",
              "      <td>65.041667</td>\n",
              "      <td>7.125450</td>\n",
              "      <td>5047</td>\n",
              "    </tr>\n",
              "    <tr>\n",
              "      <th>452</th>\n",
              "      <td>12/16/2012</td>\n",
              "      <td>14.862500</td>\n",
              "      <td>18.496875</td>\n",
              "      <td>83.875000</td>\n",
              "      <td>6.749692</td>\n",
              "      <td>3786</td>\n",
              "    </tr>\n",
              "    <tr>\n",
              "      <th>453</th>\n",
              "      <td>12/17/2012</td>\n",
              "      <td>16.126667</td>\n",
              "      <td>20.075000</td>\n",
              "      <td>90.708333</td>\n",
              "      <td>6.583308</td>\n",
              "      <td>4585</td>\n",
              "    </tr>\n",
              "    <tr>\n",
              "      <th>454</th>\n",
              "      <td>12/18/2012</td>\n",
              "      <td>16.844167</td>\n",
              "      <td>20.485417</td>\n",
              "      <td>66.625000</td>\n",
              "      <td>14.834079</td>\n",
              "      <td>5557</td>\n",
              "    </tr>\n",
              "    <tr>\n",
              "      <th>455</th>\n",
              "      <td>12/19/2012</td>\n",
              "      <td>13.632500</td>\n",
              "      <td>17.108125</td>\n",
              "      <td>62.541667</td>\n",
              "      <td>12.334142</td>\n",
              "      <td>5267</td>\n",
              "    </tr>\n",
              "  </tbody>\n",
              "</table>\n",
              "<p>456 rows × 6 columns</p>\n",
              "</div>"
            ],
            "text/plain": [
              "            Day       temp      atemp   humidity  windspeed  count\n",
              "0      1/1/2011  14.110833  18.181250  80.583333  10.749871    985\n",
              "1      1/2/2011  14.902609  17.686957  69.608696  16.652122    801\n",
              "2      1/3/2011   8.050909   9.470227  43.727273  16.636709   1349\n",
              "3      1/4/2011   8.200000  10.606087  59.043478  10.739809   1562\n",
              "4      1/5/2011   9.305217  11.463478  43.695652  12.522300   1600\n",
              "..          ...        ...        ...        ...        ...    ...\n",
              "451  12/15/2012  13.290833  16.919167  65.041667   7.125450   5047\n",
              "452  12/16/2012  14.862500  18.496875  83.875000   6.749692   3786\n",
              "453  12/17/2012  16.126667  20.075000  90.708333   6.583308   4585\n",
              "454  12/18/2012  16.844167  20.485417  66.625000  14.834079   5557\n",
              "455  12/19/2012  13.632500  17.108125  62.541667  12.334142   5267\n",
              "\n",
              "[456 rows x 6 columns]"
            ]
          },
          "metadata": {
            "tags": []
          },
          "execution_count": 7
        }
      ]
    },
    {
      "cell_type": "code",
      "metadata": {
        "colab": {
          "base_uri": "https://localhost:8080/"
        },
        "id": "2rJN7vzZzzLw",
        "outputId": "08bd9d2f-470f-4ff4-dd0c-3ca075bbef93"
      },
      "source": [
        "data.info()\n"
      ],
      "execution_count": 8,
      "outputs": [
        {
          "output_type": "stream",
          "text": [
            "<class 'pandas.core.frame.DataFrame'>\n",
            "RangeIndex: 456 entries, 0 to 455\n",
            "Data columns (total 6 columns):\n",
            " #   Column     Non-Null Count  Dtype  \n",
            "---  ------     --------------  -----  \n",
            " 0   Day        456 non-null    object \n",
            " 1   temp       456 non-null    float64\n",
            " 2   atemp      456 non-null    float64\n",
            " 3   humidity   456 non-null    float64\n",
            " 4   windspeed  456 non-null    float64\n",
            " 5   count      456 non-null    int64  \n",
            "dtypes: float64(4), int64(1), object(1)\n",
            "memory usage: 21.5+ KB\n"
          ],
          "name": "stdout"
        }
      ]
    },
    {
      "cell_type": "code",
      "metadata": {
        "colab": {
          "base_uri": "https://localhost:8080/",
          "height": 297
        },
        "id": "DIFscFWFz_Pb",
        "outputId": "16cc5149-bb44-4570-8a23-7139419d5f86"
      },
      "source": [
        "data.describe()"
      ],
      "execution_count": 9,
      "outputs": [
        {
          "output_type": "execute_result",
          "data": {
            "text/html": [
              "<div>\n",
              "<style scoped>\n",
              "    .dataframe tbody tr th:only-of-type {\n",
              "        vertical-align: middle;\n",
              "    }\n",
              "\n",
              "    .dataframe tbody tr th {\n",
              "        vertical-align: top;\n",
              "    }\n",
              "\n",
              "    .dataframe thead th {\n",
              "        text-align: right;\n",
              "    }\n",
              "</style>\n",
              "<table border=\"1\" class=\"dataframe\">\n",
              "  <thead>\n",
              "    <tr style=\"text-align: right;\">\n",
              "      <th></th>\n",
              "      <th>temp</th>\n",
              "      <th>atemp</th>\n",
              "      <th>humidity</th>\n",
              "      <th>windspeed</th>\n",
              "      <th>count</th>\n",
              "    </tr>\n",
              "  </thead>\n",
              "  <tbody>\n",
              "    <tr>\n",
              "      <th>count</th>\n",
              "      <td>456.000000</td>\n",
              "      <td>456.000000</td>\n",
              "      <td>456.000000</td>\n",
              "      <td>456.000000</td>\n",
              "      <td>456.000000</td>\n",
              "    </tr>\n",
              "    <tr>\n",
              "      <th>mean</th>\n",
              "      <td>20.186671</td>\n",
              "      <td>23.606959</td>\n",
              "      <td>61.889357</td>\n",
              "      <td>12.805332</td>\n",
              "      <td>4573.412281</td>\n",
              "    </tr>\n",
              "    <tr>\n",
              "      <th>std</th>\n",
              "      <td>7.379281</td>\n",
              "      <td>8.004275</td>\n",
              "      <td>14.192906</td>\n",
              "      <td>5.129944</td>\n",
              "      <td>1868.740135</td>\n",
              "    </tr>\n",
              "    <tr>\n",
              "      <th>min</th>\n",
              "      <td>4.407500</td>\n",
              "      <td>5.082917</td>\n",
              "      <td>0.000000</td>\n",
              "      <td>1.500242</td>\n",
              "      <td>605.000000</td>\n",
              "    </tr>\n",
              "    <tr>\n",
              "      <th>25%</th>\n",
              "      <td>14.068125</td>\n",
              "      <td>16.989479</td>\n",
              "      <td>51.218750</td>\n",
              "      <td>9.199956</td>\n",
              "      <td>3305.500000</td>\n",
              "    </tr>\n",
              "    <tr>\n",
              "      <th>50%</th>\n",
              "      <td>20.551250</td>\n",
              "      <td>24.494896</td>\n",
              "      <td>61.854167</td>\n",
              "      <td>12.146123</td>\n",
              "      <td>4585.500000</td>\n",
              "    </tr>\n",
              "    <tr>\n",
              "      <th>75%</th>\n",
              "      <td>26.615833</td>\n",
              "      <td>30.088662</td>\n",
              "      <td>71.843750</td>\n",
              "      <td>15.612960</td>\n",
              "      <td>5987.500000</td>\n",
              "    </tr>\n",
              "    <tr>\n",
              "      <th>max</th>\n",
              "      <td>35.328333</td>\n",
              "      <td>40.245625</td>\n",
              "      <td>97.041667</td>\n",
              "      <td>33.999988</td>\n",
              "      <td>8714.000000</td>\n",
              "    </tr>\n",
              "  </tbody>\n",
              "</table>\n",
              "</div>"
            ],
            "text/plain": [
              "             temp       atemp    humidity   windspeed        count\n",
              "count  456.000000  456.000000  456.000000  456.000000   456.000000\n",
              "mean    20.186671   23.606959   61.889357   12.805332  4573.412281\n",
              "std      7.379281    8.004275   14.192906    5.129944  1868.740135\n",
              "min      4.407500    5.082917    0.000000    1.500242   605.000000\n",
              "25%     14.068125   16.989479   51.218750    9.199956  3305.500000\n",
              "50%     20.551250   24.494896   61.854167   12.146123  4585.500000\n",
              "75%     26.615833   30.088662   71.843750   15.612960  5987.500000\n",
              "max     35.328333   40.245625   97.041667   33.999988  8714.000000"
            ]
          },
          "metadata": {
            "tags": []
          },
          "execution_count": 9
        }
      ]
    },
    {
      "cell_type": "code",
      "metadata": {
        "colab": {
          "base_uri": "https://localhost:8080/",
          "height": 898
        },
        "id": "6oM0iXK00KPj",
        "outputId": "6889f7a8-52c5-45da-ea0b-1a983545be6a"
      },
      "source": [
        "fig, ax = plt.subplots(3,2, figsize=(16,15))\n",
        "#all customers distribution plots\n",
        "sns.distplot(data[\"count\"], ax=ax[2][0])\n",
        "data.boxplot(\"count\", ax=ax[2][1])"
      ],
      "execution_count": 11,
      "outputs": [
        {
          "output_type": "execute_result",
          "data": {
            "text/plain": [
              "<matplotlib.axes._subplots.AxesSubplot at 0x7fd325b4c358>"
            ]
          },
          "metadata": {
            "tags": []
          },
          "execution_count": 11
        },
        {
          "output_type": "display_data",
          "data": {
            "image/png": "[encoded data removed]",
            "text/plain": [
              "<Figure size 1152x1080 with 6 Axes>"
            ]
          },
          "metadata": {
            "tags": [],
            "needs_background": "light"
          }
        }
      ]
    },
    {
      "cell_type": "code",
      "metadata": {
        "id": "Jh_0QTnc0Pei"
      },
      "source": [
        "data['count_log'] = np.log((1+ data['count']))"
      ],
      "execution_count": 12,
      "outputs": []
    },
    {
      "cell_type": "code",
      "metadata": {
        "colab": {
          "base_uri": "https://localhost:8080/",
          "height": 325
        },
        "id": "QeBxXeem0YE3",
        "outputId": "dfac5ef2-dacf-446e-b80d-4b1170e8aa17"
      },
      "source": [
        "#resulting distributing\n",
        "fig, ax = plt.subplots(1,3, figsize=(16,5))\n",
        "data.boxplot(\"count_log\", ax=ax[2])\n",
        "\n",
        "fig.show()"
      ],
      "execution_count": 13,
      "outputs": [
        {
          "output_type": "display_data",
          "data": {
            "image/png": "[encoded data removed]",
            "text/plain": [
              "<Figure size 1152x360 with 3 Axes>"
            ]
          },
          "metadata": {
            "tags": [],
            "needs_background": "light"
          }
        }
      ]
    },
    {
      "cell_type": "code",
      "metadata": {
        "colab": {
          "base_uri": "https://localhost:8080/",
          "height": 555
        },
        "id": "N5Mh_wyA0cyy",
        "outputId": "7fa5aba7-aac5-4d9f-e6e8-1269c94b78e4"
      },
      "source": [
        "corr = data.corr()\n",
        "\n",
        "# Generate a mask for the upper triangle\n",
        "mask = np.triu(np.ones_like(corr, dtype=bool))\n",
        "\n",
        "f, ax = plt.subplots(figsize=(11, 9))\n",
        "\n",
        "# Draw the heatmap\n",
        "sns.heatmap(corr, mask=mask, center=0,\n",
        "            square=True, linewidths=.5)"
      ],
      "execution_count": 14,
      "outputs": [
        {
          "output_type": "execute_result",
          "data": {
            "text/plain": [
              "<matplotlib.axes._subplots.AxesSubplot at 0x7fd3249bb5f8>"
            ]
          },
          "metadata": {
            "tags": []
          },
          "execution_count": 14
        },
        {
          "output_type": "display_data",
          "data": {
            "image/png": "[encoded data removed]",
            "text/plain": [
              "<Figure size 792x648 with 2 Axes>"
            ]
          },
          "metadata": {
            "tags": [],
            "needs_background": "light"
          }
        }
      ]
    },
    {
      "cell_type": "code",
      "metadata": {
        "colab": {
          "base_uri": "https://localhost:8080/",
          "height": 235
        },
        "id": "TNQNDSlN0nAe",
        "outputId": "1bad8eb5-c20f-485f-ad5e-e33f4d5ab364"
      },
      "source": [
        "#calculate the correlation between temp, atemp and humidity\n",
        "correlation = data.corr()\n",
        "correlation"
      ],
      "execution_count": 16,
      "outputs": [
        {
          "output_type": "execute_result",
          "data": {
            "text/html": [
              "<div>\n",
              "<style scoped>\n",
              "    .dataframe tbody tr th:only-of-type {\n",
              "        vertical-align: middle;\n",
              "    }\n",
              "\n",
              "    .dataframe tbody tr th {\n",
              "        vertical-align: top;\n",
              "    }\n",
              "\n",
              "    .dataframe thead th {\n",
              "        text-align: right;\n",
              "    }\n",
              "</style>\n",
              "<table border=\"1\" class=\"dataframe\">\n",
              "  <thead>\n",
              "    <tr style=\"text-align: right;\">\n",
              "      <th></th>\n",
              "      <th>temp</th>\n",
              "      <th>atemp</th>\n",
              "      <th>humidity</th>\n",
              "      <th>windspeed</th>\n",
              "      <th>count</th>\n",
              "      <th>count_log</th>\n",
              "    </tr>\n",
              "  </thead>\n",
              "  <tbody>\n",
              "    <tr>\n",
              "      <th>temp</th>\n",
              "      <td>1.000000</td>\n",
              "      <td>0.988777</td>\n",
              "      <td>0.146933</td>\n",
              "      <td>-0.163716</td>\n",
              "      <td>0.610687</td>\n",
              "      <td>0.617839</td>\n",
              "    </tr>\n",
              "    <tr>\n",
              "      <th>atemp</th>\n",
              "      <td>0.988777</td>\n",
              "      <td>1.000000</td>\n",
              "      <td>0.165025</td>\n",
              "      <td>-0.190875</td>\n",
              "      <td>0.612956</td>\n",
              "      <td>0.623920</td>\n",
              "    </tr>\n",
              "    <tr>\n",
              "      <th>humidity</th>\n",
              "      <td>0.146933</td>\n",
              "      <td>0.165025</td>\n",
              "      <td>1.000000</td>\n",
              "      <td>-0.305684</td>\n",
              "      <td>-0.077046</td>\n",
              "      <td>-0.050410</td>\n",
              "    </tr>\n",
              "    <tr>\n",
              "      <th>windspeed</th>\n",
              "      <td>-0.163716</td>\n",
              "      <td>-0.190875</td>\n",
              "      <td>-0.305684</td>\n",
              "      <td>1.000000</td>\n",
              "      <td>-0.235932</td>\n",
              "      <td>-0.248073</td>\n",
              "    </tr>\n",
              "    <tr>\n",
              "      <th>count</th>\n",
              "      <td>0.610687</td>\n",
              "      <td>0.612956</td>\n",
              "      <td>-0.077046</td>\n",
              "      <td>-0.235932</td>\n",
              "      <td>1.000000</td>\n",
              "      <td>0.954515</td>\n",
              "    </tr>\n",
              "    <tr>\n",
              "      <th>count_log</th>\n",
              "      <td>0.617839</td>\n",
              "      <td>0.623920</td>\n",
              "      <td>-0.050410</td>\n",
              "      <td>-0.248073</td>\n",
              "      <td>0.954515</td>\n",
              "      <td>1.000000</td>\n",
              "    </tr>\n",
              "  </tbody>\n",
              "</table>\n",
              "</div>"
            ],
            "text/plain": [
              "               temp     atemp  humidity  windspeed     count  count_log\n",
              "temp       1.000000  0.988777  0.146933  -0.163716  0.610687   0.617839\n",
              "atemp      0.988777  1.000000  0.165025  -0.190875  0.612956   0.623920\n",
              "humidity   0.146933  0.165025  1.000000  -0.305684 -0.077046  -0.050410\n",
              "windspeed -0.163716 -0.190875 -0.305684   1.000000 -0.235932  -0.248073\n",
              "count      0.610687  0.612956 -0.077046  -0.235932  1.000000   0.954515\n",
              "count_log  0.617839  0.623920 -0.050410  -0.248073  0.954515   1.000000"
            ]
          },
          "metadata": {
            "tags": []
          },
          "execution_count": 16
        }
      ]
    },
    {
      "cell_type": "code",
      "metadata": {
        "id": "BUFSoUiD0xS9"
      },
      "source": [
        "#importing packages\n",
        "from sklearn.linear_model import LinearRegression\n",
        "from sklearn.metrics import mean_squared_error\n",
        "from sklearn.preprocessing import StandardScaler"
      ],
      "execution_count": 17,
      "outputs": []
    },
    {
      "cell_type": "code",
      "metadata": {
        "id": "r0T8u1eT1krI"
      },
      "source": [
        "X = data[['temp' , 'atemp' , 'humidity' , 'windspeed']]\n",
        "y = data['count']"
      ],
      "execution_count": 18,
      "outputs": []
    },
    {
      "cell_type": "code",
      "metadata": {
        "id": "17Fb7yjH2MQx"
      },
      "source": [
        "from sklearn import linear_model"
      ],
      "execution_count": 20,
      "outputs": []
    },
    {
      "cell_type": "code",
      "metadata": {
        "colab": {
          "base_uri": "https://localhost:8080/"
        },
        "id": "X3rFmYG-2zVO",
        "outputId": "c8a6a20b-3c3c-46bb-dd73-baf3cb3f2c02"
      },
      "source": [
        "reg = LinearRegression()\n",
        "reg.fit(X, y)"
      ],
      "execution_count": 26,
      "outputs": [
        {
          "output_type": "execute_result",
          "data": {
            "text/plain": [
              "LinearRegression(copy_X=True, fit_intercept=True, n_jobs=None, normalize=False)"
            ]
          },
          "metadata": {
            "tags": []
          },
          "execution_count": 26
        }
      ]
    },
    {
      "cell_type": "code",
      "metadata": {
        "id": "M2VsGyOw3C2k"
      },
      "source": [
        "import statsmodels.api as sm"
      ],
      "execution_count": 28,
      "outputs": []
    },
    {
      "cell_type": "code",
      "metadata": {
        "colab": {
          "base_uri": "https://localhost:8080/"
        },
        "id": "K-HYEt873LKe",
        "outputId": "0ea33d3a-c28a-422e-8bea-8ffca810a677"
      },
      "source": [
        "est = sm.OLS(y, X)\n",
        "est2 = est.fit()\n",
        "print(est2.summary())"
      ],
      "execution_count": 30,
      "outputs": [
        {
          "output_type": "stream",
          "text": [
            "                                 OLS Regression Results                                \n",
            "=======================================================================================\n",
            "Dep. Variable:                  count   R-squared (uncentered):                   0.906\n",
            "Model:                            OLS   Adj. R-squared (uncentered):              0.905\n",
            "Method:                 Least Squares   F-statistic:                              1084.\n",
            "Date:                Tue, 22 Dec 2020   Prob (F-statistic):                   4.97e-230\n",
            "Time:                        09:52:14   Log-Likelihood:                         -3987.3\n",
            "No. Observations:                 456   AIC:                                      7983.\n",
            "Df Residuals:                     452   BIC:                                      7999.\n",
            "Df Model:                           4                                                  \n",
            "Covariance Type:            nonrobust                                                  \n",
            "==============================================================================\n",
            "                 coef    std err          t      P>|t|      [0.025      0.975]\n",
            "------------------------------------------------------------------------------\n",
            "temp         -51.9625     64.457     -0.806      0.421    -178.635      74.711\n",
            "atemp        224.0140     58.862      3.806      0.000     108.336     339.692\n",
            "humidity       1.3895      3.708      0.375      0.708      -5.898       8.677\n",
            "windspeed     12.5179     11.113      1.126      0.261      -9.322      34.357\n",
            "==============================================================================\n",
            "Omnibus:                        4.991   Durbin-Watson:                   0.496\n",
            "Prob(Omnibus):                  0.082   Jarque-Bera (JB):                4.301\n",
            "Skew:                           0.159   Prob(JB):                        0.116\n",
            "Kurtosis:                       2.646   Cond. No.                         87.5\n",
            "==============================================================================\n",
            "\n",
            "Warnings:\n",
            "[1] Standard Errors assume that the covariance matrix of the errors is correctly specified.\n"
          ],
          "name": "stdout"
        }
      ]
    },
    {
      "cell_type": "code",
      "metadata": {
        "id": "wxVXGh3s3PpL"
      },
      "source": [
        ""
      ],
      "execution_count": null,
      "outputs": []
    },
    {
      "cell_type": "markdown",
      "metadata": {
        "id": "LmII2kD83W8k"
      },
      "source": [
        "Temp is not significant as p value is greater than 0.05 and only atemp is significant "
      ]
    },
    {
      "cell_type": "code",
      "metadata": {
        "id": "O0MDbyvd3d5G"
      },
      "source": [
        "X = data[[ 'atemp' ]]\n",
        "y = data['count']"
      ],
      "execution_count": 31,
      "outputs": []
    },
    {
      "cell_type": "code",
      "metadata": {
        "id": "AkOcXoxL3nK0"
      },
      "source": [
        ""
      ],
      "execution_count": null,
      "outputs": []
    }
  ]
}