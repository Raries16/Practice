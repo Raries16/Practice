{
  "nbformat": 4,
  "nbformat_minor": 0,
  "metadata": {
    "colab": {
      "name": "Speech to Text.ipynb",
      "provenance": [],
      "mount_file_id": "1ynlhfsBpfmzzsLhDI8ulcOWkueMndU7C",
      "authorship_tag": "ABX9TyN8e5RSM8cwrBWB8mxCOmdH",
      "include_colab_link": true
    },
    "kernelspec": {
      "name": "python3",
      "display_name": "Python 3"
    }
  },
  "cells": [
    {
      "cell_type": "markdown",
      "metadata": {
        "id": "view-in-github",
        "colab_type": "text"
      },
      "source": [
        "<a href=\"https://colab.research.google.com/github/Raries16/Practice/blob/main/Speech_to_Text.ipynb\" target=\"_parent\"><img src=\"https://colab.research.google.com/assets/colab-badge.svg\" alt=\"Open In Colab\"/></a>"
      ]
    },
    {
      "cell_type": "code",
      "metadata": {
        "colab": {
          "base_uri": "https://localhost:8080/"
        },
        "id": "gvXQTb7Yg_f3",
        "outputId": "9082118f-371a-4d13-a242-2a2aa514475d"
      },
      "source": [
        "pip install SpeechRecognition"
      ],
      "execution_count": 3,
      "outputs": [
        {
          "output_type": "stream",
          "text": [
            "Collecting SpeechRecognition\n",
            "\u001b[?25l  Downloading https://files.pythonhosted.org/packages/26/e1/7f5678cd94ec1234269d23756dbdaa4c8cfaed973412f88ae8adf7893a50/SpeechRecognition-3.8.1-py2.py3-none-any.whl (32.8MB)\n",
            "\u001b[K     |████████████████████████████████| 32.8MB 120kB/s \n",
            "\u001b[?25hInstalling collected packages: SpeechRecognition\n",
            "Successfully installed SpeechRecognition-3.8.1\n"
          ],
          "name": "stdout"
        }
      ]
    },
    {
      "cell_type": "code",
      "metadata": {
        "colab": {
          "base_uri": "https://localhost:8080/"
        },
        "id": "pi0UgUY80Hs5",
        "outputId": "455cdac1-b65e-4ed8-9443-07d06a31f37a"
      },
      "source": [
        "from google.colab import drive\r\n",
        "drive.mount('/content/drive')"
      ],
      "execution_count": 13,
      "outputs": [
        {
          "output_type": "stream",
          "text": [
            "Drive already mounted at /content/drive; to attempt to forcibly remount, call drive.mount(\"/content/drive\", force_remount=True).\n"
          ],
          "name": "stdout"
        }
      ]
    },
    {
      "cell_type": "code",
      "metadata": {
        "id": "XtethYLKhEzP"
      },
      "source": [
        "import speech_recognition as sr"
      ],
      "execution_count": 14,
      "outputs": []
    },
    {
      "cell_type": "code",
      "metadata": {
        "id": "Q9mN2HXgSzK8"
      },
      "source": [
        "AUDIO_FILE = ('/content/drive/MyDrive/Colab_Notebooks/Training1.wav')"
      ],
      "execution_count": 15,
      "outputs": []
    },
    {
      "cell_type": "code",
      "metadata": {
        "id": "JbA_Y0IzkyFK"
      },
      "source": [
        "r = sr.Recognizer()"
      ],
      "execution_count": 16,
      "outputs": []
    },
    {
      "cell_type": "code",
      "metadata": {
        "id": "P0iXgPGxlG5l",
        "colab": {
          "base_uri": "https://localhost:8080/"
        },
        "outputId": "193e34f5-5654-4d13-fd2c-13490b365527"
      },
      "source": [
        "with sr.AudioFile(AUDIO_FILE) as source: \r\n",
        "    #reads the audio file. Here we use record instead of \r\n",
        "    #listen \r\n",
        "    audio = r.record(source) \r\n",
        "try: \r\n",
        "    print(\"The audio file contains: \" + r.recognize_google(audio)) \r\n",
        "  \r\n",
        "except sr.UnknownValueError: \r\n",
        "    print(\"Google Speech Recognition could not understand audio\") \r\n",
        "  \r\n",
        "except sr.RequestError as e: \r\n",
        "    print(\"Could not request results from Google Speech Recognition service; {0}\".format(e)) "
      ],
      "execution_count": 17,
      "outputs": [
        {
          "output_type": "stream",
          "text": [
            "The audio file contains: so we've now got the ability for computers to perceive the world around them in ways that they didn't exist six or seven years ago and opened up applications of computing. Just didn't exist before because now you can depend on being able to see and sense with Rodger\n"
          ],
          "name": "stdout"
        }
      ]
    }
  ]
}